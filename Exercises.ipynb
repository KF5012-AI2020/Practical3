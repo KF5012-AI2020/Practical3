{
 "cells": [
  {
   "cell_type": "markdown",
   "metadata": {},
   "source": [
    "## Exercises\n",
    "The goal of these exercises is to challenge you a little bit and make you think. The questions are designed to allow you to have a play around and try a few things before getting to the answer. The solutions are obtainable by writing very similar code to what has been explored in the previous notebooks, but may require an extra step of logic.\n",
    "\n",
    "The solutions will be released after the lecture on Thursday.\n",
    "\n",
    "Let's start with importing the required libraries."
   ]
  },
  {
   "cell_type": "code",
   "execution_count": null,
   "metadata": {},
   "outputs": [],
   "source": [
    "import numpy as np\n",
    "import pandas as pd\n",
    "import matplotlib.pyplot as plt\n",
    "from sklearn import datasets\n",
    "from sklearn.linear_model import LinearRegression\n",
    "from sklearn.metrics import mean_squared_error\n",
    "from sklearn.preprocessing import PolynomialFeatures\n",
    "from sklearn.model_selection import train_test_split\n",
    "from sklearn.kernel_ridge import KernelRidge\n",
    "from sklearn.model_selection import GridSearchCV\n",
    "from sklearn.decomposition import PCA\n",
    "from sklearn.linear_model import LogisticRegression\n",
    "from sklearn.pipeline import Pipeline\n",
    "from sklearn.svm import SVC\n",
    "%matplotlib inline"
   ]
  },
  {
   "cell_type": "markdown",
   "metadata": {},
   "source": [
    "### Exercise 1"
   ]
  },
  {
   "cell_type": "markdown",
   "metadata": {},
   "source": [
    "**1. a)** Import the two-dimensional csv data from the file `Data/nonlinear_ex.csv` into a DataFrame using Pandas and create a scatter plot with `x='input'` and `y='target'`."
   ]
  },
  {
   "cell_type": "code",
   "execution_count": null,
   "metadata": {},
   "outputs": [],
   "source": [
    "# Write your answer here"
   ]
  },
  {
   "cell_type": "markdown",
   "metadata": {},
   "source": [
    "**1. b)** Extract the `'target'` column to create a target vector `y` and extract the `'input'` column to create an attribute matrix `X`. Hint: Don't forget to make X two dimensional by adding a new column! Then normalise `X` to zero mean and unit variance."
   ]
  },
  {
   "cell_type": "code",
   "execution_count": null,
   "metadata": {},
   "outputs": [],
   "source": [
    "# Write your answer here"
   ]
  },
  {
   "cell_type": "markdown",
   "metadata": {},
   "source": [
    "**1. c)** Using the `estimator` and `param_grid` variables specified below: Split the dataset into train and test datasets with test set size of $0.5$, then setup a `GridSearchCV` grid search fit the grid search to find the best values of `alpha` and `gamma`."
   ]
  },
  {
   "cell_type": "code",
   "execution_count": null,
   "metadata": {},
   "outputs": [],
   "source": [
    "# Using this estimator and these parameters \n",
    "estimator = KernelRidge(kernel='rbf', gamma=0.1)\n",
    "param_grid = {\"alpha\": [1e0, 0.1, 1e-2, 1e-3], \n",
    "              \"gamma\": np.logspace(-2, 2, 5)}\n",
    "\n",
    "# Write your answer here"
   ]
  },
  {
   "cell_type": "markdown",
   "metadata": {},
   "source": [
    "**1. d)** Do your best to try to create an plot that looks like the folowing image showing: (1) the training data using black circles, (2) the test data using blue crosses, and (3) predictions on a linear space using a grey line. \n",
    "\n",
    "<img src=\"image_1d.png\">"
   ]
  },
  {
   "cell_type": "code",
   "execution_count": null,
   "metadata": {},
   "outputs": [],
   "source": [
    "# Write your answer here"
   ]
  },
  {
   "cell_type": "markdown",
   "metadata": {},
   "source": [
    "### Exercise 2"
   ]
  },
  {
   "cell_type": "markdown",
   "metadata": {},
   "source": [
    "**2. a)** Load in the csv `Data/classed_ex.csv` and print the head."
   ]
  },
  {
   "cell_type": "code",
   "execution_count": null,
   "metadata": {},
   "outputs": [],
   "source": [
    "# Write your answer here"
   ]
  },
  {
   "cell_type": "markdown",
   "metadata": {},
   "source": [
    "**2. b)** Create a scatter plot of `'x1'` versus `'x2'` and colour examples with target $0$ to be blue and with target $1$ to be red."
   ]
  },
  {
   "cell_type": "code",
   "execution_count": null,
   "metadata": {},
   "outputs": [],
   "source": [
    "# Write your answer here"
   ]
  },
  {
   "cell_type": "markdown",
   "metadata": {},
   "source": [
    "**2. c)** For the provided `estimator` and `param_grid `: format the data to $X$ and $y$, normalise the data to zero mean and unit variance, and perform and grid search print the best parameters and score (mean accuracy)."
   ]
  },
  {
   "cell_type": "code",
   "execution_count": null,
   "metadata": {},
   "outputs": [],
   "source": [
    "# Estimator and param_grid provided\n",
    "estimator = SVC(kernel='rbf')\n",
    "param_grid = {'gamma': [1e-1,1e-2,1e-3, 1e-4], 'C': [1, 10, 100, 1000]}\n",
    "\n",
    "# Write your answer here"
   ]
  },
  {
   "cell_type": "markdown",
   "metadata": {},
   "source": [
    "**2. d)** Use the `plot_results` function from the classification notebook to visualise results. Hint: use `search` as the classifier and update the color-map to be `df_classed.y.map({0:'r', 1:'b'}`."
   ]
  },
  {
   "cell_type": "code",
   "execution_count": null,
   "metadata": {},
   "outputs": [],
   "source": [
    "# Write your answer here"
   ]
  },
  {
   "cell_type": "markdown",
   "metadata": {},
   "source": [
    "### Exercise 3"
   ]
  },
  {
   "cell_type": "markdown",
   "metadata": {},
   "source": [
    "**3. a)** Load in the image data and visualise first $5$ images in subplolts"
   ]
  },
  {
   "cell_type": "code",
   "execution_count": null,
   "metadata": {},
   "outputs": [],
   "source": [
    "# Write your answer here"
   ]
  },
  {
   "cell_type": "markdown",
   "metadata": {},
   "source": [
    "**3. b)** Extract all the images with target value $1$ and visualise the first five in subplots."
   ]
  },
  {
   "cell_type": "code",
   "execution_count": null,
   "metadata": {},
   "outputs": [],
   "source": [
    "# Write your answer here"
   ]
  },
  {
   "cell_type": "markdown",
   "metadata": {},
   "source": [
    "**3. c)** Use numpy to calulate a *mean* image of all the images with target value $1$, and then visualise it. Hint: Think about which `axis` you need to take the mean over."
   ]
  },
  {
   "cell_type": "code",
   "execution_count": null,
   "metadata": {},
   "outputs": [],
   "source": [
    "# Write your answer here"
   ]
  },
  {
   "cell_type": "markdown",
   "metadata": {},
   "source": [
    "**3. d)** Using the following `estimator` and `param_grid` to perform grid search over the numbr of 'Principle Component Analysis' (PCA) components and over the support vector classifier value of 'C'. Print the results."
   ]
  },
  {
   "cell_type": "code",
   "execution_count": null,
   "metadata": {},
   "outputs": [],
   "source": [
    "# Estimator and param_grid\n",
    "estimator = Pipeline(steps=[('pca', PCA()), \n",
    "            ('svc', SVC(kernel=\"linear\"))])\n",
    "\n",
    "param_grid = {\n",
    "    'pca__n_components': [15, 30, 45],\n",
    "    'svc__C': [1e-2, 1e-1, 1e0],\n",
    "}\n",
    "\n",
    "# Write your answer here"
   ]
  }
 ],
 "metadata": {
  "kernelspec": {
   "display_name": "Python 3",
   "language": "python",
   "name": "python3"
  },
  "language_info": {
   "codemirror_mode": {
    "name": "ipython",
    "version": 3
   },
   "file_extension": ".py",
   "mimetype": "text/x-python",
   "name": "python",
   "nbconvert_exporter": "python",
   "pygments_lexer": "ipython3",
   "version": "3.6.4"
  }
 },
 "nbformat": 4,
 "nbformat_minor": 2
}
