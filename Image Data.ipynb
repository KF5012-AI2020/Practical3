{
 "cells": [
  {
   "cell_type": "markdown",
   "metadata": {},
   "source": [
    "## Image Data\n",
    "Let's now explore a classification problem involving some *real* data.\n",
    "\n",
    "First, let's import the required packages."
   ]
  },
  {
   "cell_type": "code",
   "execution_count": 1,
   "metadata": {},
   "outputs": [],
   "source": [
    "import numpy as np\n",
    "from sklearn import datasets\n",
    "from sklearn.svm import SVC\n",
    "from sklearn.feature_selection import RFE\n",
    "from sklearn.model_selection import train_test_split\n",
    "from sklearn.linear_model import LogisticRegression\n",
    "from sklearn.model_selection import GridSearchCV\n",
    "import matplotlib.pyplot as plt\n",
    "%matplotlib inline"
   ]
  },
  {
   "cell_type": "markdown",
   "metadata": {},
   "source": [
    "### MNIST data\n",
    "We will be working with a very famous dataset of labelled images. \n",
    "\n",
    "To load the image data we will use one of Sklearn's set of existing data loaders, where Sklearn provides a number of toy datasets that can be used for exploring machine learning algorithms.\n",
    "\n",
    "Let us load the data and visualise the first 100 images."
   ]
  },
  {
   "cell_type": "code",
   "execution_count": 2,
   "metadata": {},
   "outputs": [
    {
     "data": {
      "image/png": "[encoded data removed]",
      "text/plain": [
       "<Figure size 432x432 with 100 Axes>"
      ]
     },
     "metadata": {},
     "output_type": "display_data"
    }
   ],
   "source": [
    "digits = datasets.load_digits()\n",
    "\n",
    "rows, columns = 10, 10\n",
    "_, axes = plt.subplots(rows, columns, figsize=(6,6))\n",
    "for ax, image in zip(axes.flatten(), digits.images[:rows*columns]):\n",
    "    ax.set_axis_off()\n",
    "    ax.imshow(image, cmap=plt.cm.gray_r)"
   ]
  },
  {
   "cell_type": "markdown",
   "metadata": {},
   "source": [
    "The dataset consists of set of images of *handwritten* digits and their categories. The data in `digits.images` represents the values for each pixal in each $8x8$ image, while the values in `digits.target` look like this:"
   ]
  },
  {
   "cell_type": "code",
   "execution_count": 3,
   "metadata": {},
   "outputs": [
    {
     "data": {
      "text/plain": [
       "array([0, 1, 2, 3, 4, 5, 6, 7, 8, 9])"
      ]
     },
     "execution_count": 3,
     "metadata": {},
     "output_type": "execute_result"
    }
   ],
   "source": [
    "np.unique(digits.target)"
   ]
  },
  {
   "cell_type": "markdown",
   "metadata": {},
   "source": [
    "### Logistic regression on raw pixel data\n",
    "Let's format the data, split into train and test datasets, train a logistic regression model on the raw pixel data, and evaluate on the test data. Note that we reshaped the images to match the expected format of an attributes matrix."
   ]
  },
  {
   "cell_type": "code",
   "execution_count": 4,
   "metadata": {},
   "outputs": [
    {
     "name": "stdout",
     "output_type": "stream",
     "text": [
      "0.9388888888888889\n"
     ]
    }
   ],
   "source": [
    "y = digits.target\n",
    "X = digits.images.reshape((len(digits.images), -1))\n",
    "X=(X-X.mean())/X.std()\n",
    "\n",
    "X_train, X_test, y_train, y_test = train_test_split(X,y, test_size=0.2, random_state=0)\n",
    "\n",
    "lr = LogisticRegression(C=0.01)\n",
    "lr.fit(X_train,y_train);\n",
    "\n",
    "print(lr.score(X_test, y_test))"
   ]
  },
  {
   "cell_type": "markdown",
   "metadata": {},
   "source": [
    "The output value is the *mean accuracy*, the fraction of test examples for which the model guesses the class correctly. $0$ is very bad, $1$ is very good.\n",
    "\n",
    "Let's try a different model. A linear support vector classification model."
   ]
  },
  {
   "cell_type": "code",
   "execution_count": 5,
   "metadata": {},
   "outputs": [
    {
     "name": "stdout",
     "output_type": "stream",
     "text": [
      "0.9722222222222222\n"
     ]
    }
   ],
   "source": [
    "svc = SVC(kernel=\"linear\", C=0.01)\n",
    "svc.fit(X_train, y_train)\n",
    "print(svc.score(X_test, y_test))"
   ]
  },
  {
   "cell_type": "markdown",
   "metadata": {},
   "source": [
    "### Introduction to grid search\n",
    "For the logistic regression model, we chose the parameter `C` to be equal to $0.01$, but we do not yet know if this is the *best* value.\n",
    "\n",
    "Similarly to when we performed model selection over the degree of the polynomial feature map in the polynomial regression model, we can perform model selection over the parameter `C` in the logistic regression model.\n",
    "\n",
    "Let's perform model selection over the parameter `C` of the logistic regression classification model, but's let's introduce a useful tool from Sklearn to make things easier.\n",
    "\n",
    "Run the following code."
   ]
  },
  {
   "cell_type": "code",
   "execution_count": 6,
   "metadata": {},
   "outputs": [
    {
     "data": {
      "text/plain": [
       "({'C': 1.0}, 0.9665970772442589)"
      ]
     },
     "execution_count": 6,
     "metadata": {},
     "output_type": "execute_result"
    }
   ],
   "source": [
    "# create our logistic regression\n",
    "lr = LogisticRegression()\n",
    "\n",
    "# specify the 'C' parameters to be searched over\n",
    "params = {'C':[1e-2, 1e-1, 1e0, 1e1, 1e2]}\n",
    "\n",
    "# instantiate a gridsearch\n",
    "search = GridSearchCV(lr, params)\n",
    "\n",
    "# find the best values of 'C'\n",
    "search.fit(X_train, y_train)\n",
    "\n",
    "# Print the best params and the mean accuracy\n",
    "search.best_params_, search.best_score_"
   ]
  },
  {
   "cell_type": "markdown",
   "metadata": {},
   "source": [
    "The `GridSearchCV` uses *cross-validation* (to be covered in the lecture) to evaluate each value of the parameter `C` and then chooses the best one. Not by much, but the grid search has resulted in a model with a value of `C` that performs better than the one we chose originally.\n",
    "\n",
    "The meaning of `C` will be covered further in the lecture."
   ]
  },
  {
   "cell_type": "markdown",
   "metadata": {},
   "source": [
    "### Feature relevance\n",
    "Finally, let's quickly expore the idea of *feature relevance* in the context of image classification.\n",
    "\n",
    "Run the following code."
   ]
  },
  {
   "cell_type": "code",
   "execution_count": 7,
   "metadata": {},
   "outputs": [
    {
     "data": {
      "image/png": "[encoded data removed]",
      "text/plain": [
       "<Figure size 288x288 with 2 Axes>"
      ]
     },
     "metadata": {},
     "output_type": "display_data"
    }
   ],
   "source": [
    "# Rank the raw pixel features\n",
    "svc = SVC(kernel=\"linear\", C=0.01)\n",
    "rfe = RFE(estimator=svc, n_features_to_select=1, step=1)\n",
    "rfe.fit(X, y)\n",
    "ranking = rfe.ranking_.reshape(digits.images[0].shape)\n",
    "\n",
    "# Visualise results\n",
    "plt.matshow(ranking, cmap=plt.cm.Blues)\n",
    "plt.colorbar()\n",
    "plt.title(\"Ranking of pixels with RFE\")\n",
    "plt.show()"
   ]
  },
  {
   "cell_type": "markdown",
   "metadata": {},
   "source": [
    "This whiteness of each pixel represents the relevance that pixel when it comes to determining the category of the image. \n",
    "\n",
    "We will discuss feature relevance in the lecture in more detail."
   ]
  }
 ],
 "metadata": {
  "kernelspec": {
   "display_name": "Python 3",
   "language": "python",
   "name": "python3"
  },
  "language_info": {
   "codemirror_mode": {
    "name": "ipython",
    "version": 3
   },
   "file_extension": ".py",
   "mimetype": "text/x-python",
   "name": "python",
   "nbconvert_exporter": "python",
   "pygments_lexer": "ipython3",
   "version": "3.6.4"
  }
 },
 "nbformat": 4,
 "nbformat_minor": 2
}
